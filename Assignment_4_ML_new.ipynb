{
  "nbformat": 4,
  "nbformat_minor": 0,
  "metadata": {
    "colab": {
      "provenance": [],
      "authorship_tag": "ABX9TyN/IePFC1YI8KzjK+9pq5J9",
      "include_colab_link": true
    },
    "kernelspec": {
      "name": "python3",
      "display_name": "Python 3"
    },
    "language_info": {
      "name": "python"
    }
  },
  "cells": [
    {
      "cell_type": "markdown",
      "metadata": {
        "id": "view-in-github",
        "colab_type": "text"
      },
      "source": [
        "<a href=\"https://colab.research.google.com/github/Saumya0330/Machine_Learning_Saumya_UML501/blob/main/ML_Assignment4.ipynb\" target=\"_parent\"><img src=\"https://colab.research.google.com/assets/colab-badge.svg\" alt=\"Open In Colab\"/></a>"
      ]
    },
    {
      "cell_type": "markdown",
      "source": [
        "This assignment will help you practice web scraping techniques by extracting structured data\n",
        "from a live practice website. You will learn how to navigate HTML structures, extract relevant\n",
        "information, and save it in a structured format for analysis."
      ],
      "metadata": {
        "id": "z657Iw89VI5p"
      }
    },
    {
      "cell_type": "code",
      "execution_count": 2,
      "metadata": {
        "id": "8dwlSpQfVFqc"
      },
      "outputs": [],
      "source": [
        "import requests\n",
        "from bs4 import BeautifulSoup\n",
        "import pandas as pd\n",
        "from urllib.parse import urljoin"
      ]
    },
    {
      "cell_type": "markdown",
      "source": [
        "Q1. Write a Python program to scrape all available books from the website\n",
        "(https://books.toscrape.com/) Books to Scrape – a live site built for practicing scraping (safe,\n",
        "legal, no anti-bot). For each book, extract the following details:\n",
        "1. Title\n",
        "2. Price\n",
        "3. Availability (In stock / Out of stock)\n",
        "4. Star Rating (One, Two, Three, Four, Five)\n",
        "\n",
        "Store the scraped results into a Pandas DataFrame and export them to a CSV file named\n",
        "books.csv.\n",
        "\n",
        "(Note: Use the requests library to fetch the HTML page. Use BeautifulSoup to parse and extract\n",
        "book details and handle pagination so that books from all pages are scraped)"
      ],
      "metadata": {
        "id": "r4Pmra-eVNDM"
      }
    },
    {
      "cell_type": "code",
      "source": [
        "response = requests.get(\"https://books.toscrape.com/\")\n",
        "html = response.text\n",
        "print(response.status_code) #200 means OK\n",
        "print(response.headers)"
      ],
      "metadata": {
        "colab": {
          "base_uri": "https://localhost:8080/"
        },
        "id": "4pkfQEuJWweo",
        "outputId": "2ae3b175-6230-4eee-efb3-8660690c8e23"
      },
      "execution_count": null,
      "outputs": [
        {
          "output_type": "stream",
          "name": "stdout",
          "text": [
            "200\n",
            "{'Date': 'Thu, 04 Sep 2025 16:19:47 GMT', 'Content-Type': 'text/html', 'Transfer-Encoding': 'chunked', 'Connection': 'keep-alive', 'Last-Modified': 'Wed, 08 Feb 2023 21:02:32 GMT', 'ETag': 'W/\"63e40de8-c85e\"', 'Strict-Transport-Security': 'max-age=0; includeSubDomains; preload', 'Content-Encoding': 'br'}\n"
          ]
        }
      ]
    },
    {
      "cell_type": "code",
      "source": [
        "def scrap_books(soup):\n",
        "  books_scrap = soup.find_all(\"article\", class_=\"product_pod\")\n",
        "  page_books=[]\n",
        "  for book in books_scrap:\n",
        "    title = (book.h3.a[\"title\"])\n",
        "    price = book.find(\"p\", class_=\"price_color\").text\n",
        "    avail = book.find(\"p\", class_=\"instock availability\").text.strip()\n",
        "    rating = book.find(\"p\", class_=\"star-rating\")[\"class\"][1]\n",
        "    page_books.append({\"Title\":title, \"Price\":price, \"Availabilty\":avail, \"Rating\":rating})\n",
        "    #print(book.prettify()) #shows html script and class names\n",
        "  return page_books"
      ],
      "metadata": {
        "id": "JiCgEWQQXsSx"
      },
      "execution_count": null,
      "outputs": []
    },
    {
      "cell_type": "code",
      "source": [
        "url = \"https://books.toscrape.com/catalogue/page-1.html\"\n",
        "books=[]\n",
        "while url:\n",
        "  response = requests.get(url)\n",
        "  soup = BeautifulSoup(response.text, \"html.parser\")\n",
        "\n",
        "  books.extend(scrap_books(soup))\n",
        "\n",
        "  next_button = soup.find(\"li\" , class_=\"next\")\n",
        "  if next_button:\n",
        "    next_page = next_button.a[\"href\"]\n",
        "    url = urljoin(url, next_page)\n",
        "  else:\n",
        "    url = None\n",
        "\n",
        "df = pd.DataFrame(books)\n",
        "df.to_csv(\"books.csv\", index=False)"
      ],
      "metadata": {
        "id": "YX5NznpNekZv"
      },
      "execution_count": null,
      "outputs": []
    },
    {
      "cell_type": "code",
      "source": [
        "df.head()"
      ],
      "metadata": {
        "colab": {
          "base_uri": "https://localhost:8080/",
          "height": 206
        },
        "id": "x8_x-mXNhtUQ",
        "outputId": "dd6599dd-d81f-4bea-fdc3-17b534de4af7"
      },
      "execution_count": null,
      "outputs": [
        {
          "output_type": "execute_result",
          "data": {
            "text/plain": [
              "                                   Title    Price Availabilty Rating\n",
              "0                   A Light in the Attic  Â£51.77    In stock  Three\n",
              "1                     Tipping the Velvet  Â£53.74    In stock    One\n",
              "2                             Soumission  Â£50.10    In stock    One\n",
              "3                          Sharp Objects  Â£47.82    In stock   Four\n",
              "4  Sapiens: A Brief History of Humankind  Â£54.23    In stock   Five"
            ],
            "text/html": [
              "\n",
              "  <div id=\"df-5328ee0c-2337-40b4-906f-cddea2ba7f59\" class=\"colab-df-container\">\n",
              "    <div>\n",
              "<style scoped>\n",
              "    .dataframe tbody tr th:only-of-type {\n",
              "        vertical-align: middle;\n",
              "    }\n",
              "\n",
              "    .dataframe tbody tr th {\n",
              "        vertical-align: top;\n",
              "    }\n",
              "\n",
              "    .dataframe thead th {\n",
              "        text-align: right;\n",
              "    }\n",
              "</style>\n",
              "<table border=\"1\" class=\"dataframe\">\n",
              "  <thead>\n",
              "    <tr style=\"text-align: right;\">\n",
              "      <th></th>\n",
              "      <th>Title</th>\n",
              "      <th>Price</th>\n",
              "      <th>Availabilty</th>\n",
              "      <th>Rating</th>\n",
              "    </tr>\n",
              "  </thead>\n",
              "  <tbody>\n",
              "    <tr>\n",
              "      <th>0</th>\n",
              "      <td>A Light in the Attic</td>\n",
              "      <td>Â£51.77</td>\n",
              "      <td>In stock</td>\n",
              "      <td>Three</td>\n",
              "    </tr>\n",
              "    <tr>\n",
              "      <th>1</th>\n",
              "      <td>Tipping the Velvet</td>\n",
              "      <td>Â£53.74</td>\n",
              "      <td>In stock</td>\n",
              "      <td>One</td>\n",
              "    </tr>\n",
              "    <tr>\n",
              "      <th>2</th>\n",
              "      <td>Soumission</td>\n",
              "      <td>Â£50.10</td>\n",
              "      <td>In stock</td>\n",
              "      <td>One</td>\n",
              "    </tr>\n",
              "    <tr>\n",
              "      <th>3</th>\n",
              "      <td>Sharp Objects</td>\n",
              "      <td>Â£47.82</td>\n",
              "      <td>In stock</td>\n",
              "      <td>Four</td>\n",
              "    </tr>\n",
              "    <tr>\n",
              "      <th>4</th>\n",
              "      <td>Sapiens: A Brief History of Humankind</td>\n",
              "      <td>Â£54.23</td>\n",
              "      <td>In stock</td>\n",
              "      <td>Five</td>\n",
              "    </tr>\n",
              "  </tbody>\n",
              "</table>\n",
              "</div>\n",
              "    <div class=\"colab-df-buttons\">\n",
              "\n",
              "  <div class=\"colab-df-container\">\n",
              "    <button class=\"colab-df-convert\" onclick=\"convertToInteractive('df-5328ee0c-2337-40b4-906f-cddea2ba7f59')\"\n",
              "            title=\"Convert this dataframe to an interactive table.\"\n",
              "            style=\"display:none;\">\n",
              "\n",
              "  <svg xmlns=\"http://www.w3.org/2000/svg\" height=\"24px\" viewBox=\"0 -960 960 960\">\n",
              "    <path d=\"M120-120v-720h720v720H120Zm60-500h600v-160H180v160Zm220 220h160v-160H400v160Zm0 220h160v-160H400v160ZM180-400h160v-160H180v160Zm440 0h160v-160H620v160ZM180-180h160v-160H180v160Zm440 0h160v-160H620v160Z\"/>\n",
              "  </svg>\n",
              "    </button>\n",
              "\n",
              "  <style>\n",
              "    .colab-df-container {\n",
              "      display:flex;\n",
              "      gap: 12px;\n",
              "    }\n",
              "\n",
              "    .colab-df-convert {\n",
              "      background-color: #E8F0FE;\n",
              "      border: none;\n",
              "      border-radius: 50%;\n",
              "      cursor: pointer;\n",
              "      display: none;\n",
              "      fill: #1967D2;\n",
              "      height: 32px;\n",
              "      padding: 0 0 0 0;\n",
              "      width: 32px;\n",
              "    }\n",
              "\n",
              "    .colab-df-convert:hover {\n",
              "      background-color: #E2EBFA;\n",
              "      box-shadow: 0px 1px 2px rgba(60, 64, 67, 0.3), 0px 1px 3px 1px rgba(60, 64, 67, 0.15);\n",
              "      fill: #174EA6;\n",
              "    }\n",
              "\n",
              "    .colab-df-buttons div {\n",
              "      margin-bottom: 4px;\n",
              "    }\n",
              "\n",
              "    [theme=dark] .colab-df-convert {\n",
              "      background-color: #3B4455;\n",
              "      fill: #D2E3FC;\n",
              "    }\n",
              "\n",
              "    [theme=dark] .colab-df-convert:hover {\n",
              "      background-color: #434B5C;\n",
              "      box-shadow: 0px 1px 3px 1px rgba(0, 0, 0, 0.15);\n",
              "      filter: drop-shadow(0px 1px 2px rgba(0, 0, 0, 0.3));\n",
              "      fill: #FFFFFF;\n",
              "    }\n",
              "  </style>\n",
              "\n",
              "    <script>\n",
              "      const buttonEl =\n",
              "        document.querySelector('#df-5328ee0c-2337-40b4-906f-cddea2ba7f59 button.colab-df-convert');\n",
              "      buttonEl.style.display =\n",
              "        google.colab.kernel.accessAllowed ? 'block' : 'none';\n",
              "\n",
              "      async function convertToInteractive(key) {\n",
              "        const element = document.querySelector('#df-5328ee0c-2337-40b4-906f-cddea2ba7f59');\n",
              "        const dataTable =\n",
              "          await google.colab.kernel.invokeFunction('convertToInteractive',\n",
              "                                                    [key], {});\n",
              "        if (!dataTable) return;\n",
              "\n",
              "        const docLinkHtml = 'Like what you see? Visit the ' +\n",
              "          '<a target=\"_blank\" href=https://colab.research.google.com/notebooks/data_table.ipynb>data table notebook</a>'\n",
              "          + ' to learn more about interactive tables.';\n",
              "        element.innerHTML = '';\n",
              "        dataTable['output_type'] = 'display_data';\n",
              "        await google.colab.output.renderOutput(dataTable, element);\n",
              "        const docLink = document.createElement('div');\n",
              "        docLink.innerHTML = docLinkHtml;\n",
              "        element.appendChild(docLink);\n",
              "      }\n",
              "    </script>\n",
              "  </div>\n",
              "\n",
              "\n",
              "    <div id=\"df-8de38c31-62e6-4dc8-9cac-e87e9b73ea65\">\n",
              "      <button class=\"colab-df-quickchart\" onclick=\"quickchart('df-8de38c31-62e6-4dc8-9cac-e87e9b73ea65')\"\n",
              "                title=\"Suggest charts\"\n",
              "                style=\"display:none;\">\n",
              "\n",
              "<svg xmlns=\"http://www.w3.org/2000/svg\" height=\"24px\"viewBox=\"0 0 24 24\"\n",
              "     width=\"24px\">\n",
              "    <g>\n",
              "        <path d=\"M19 3H5c-1.1 0-2 .9-2 2v14c0 1.1.9 2 2 2h14c1.1 0 2-.9 2-2V5c0-1.1-.9-2-2-2zM9 17H7v-7h2v7zm4 0h-2V7h2v10zm4 0h-2v-4h2v4z\"/>\n",
              "    </g>\n",
              "</svg>\n",
              "      </button>\n",
              "\n",
              "<style>\n",
              "  .colab-df-quickchart {\n",
              "      --bg-color: #E8F0FE;\n",
              "      --fill-color: #1967D2;\n",
              "      --hover-bg-color: #E2EBFA;\n",
              "      --hover-fill-color: #174EA6;\n",
              "      --disabled-fill-color: #AAA;\n",
              "      --disabled-bg-color: #DDD;\n",
              "  }\n",
              "\n",
              "  [theme=dark] .colab-df-quickchart {\n",
              "      --bg-color: #3B4455;\n",
              "      --fill-color: #D2E3FC;\n",
              "      --hover-bg-color: #434B5C;\n",
              "      --hover-fill-color: #FFFFFF;\n",
              "      --disabled-bg-color: #3B4455;\n",
              "      --disabled-fill-color: #666;\n",
              "  }\n",
              "\n",
              "  .colab-df-quickchart {\n",
              "    background-color: var(--bg-color);\n",
              "    border: none;\n",
              "    border-radius: 50%;\n",
              "    cursor: pointer;\n",
              "    display: none;\n",
              "    fill: var(--fill-color);\n",
              "    height: 32px;\n",
              "    padding: 0;\n",
              "    width: 32px;\n",
              "  }\n",
              "\n",
              "  .colab-df-quickchart:hover {\n",
              "    background-color: var(--hover-bg-color);\n",
              "    box-shadow: 0 1px 2px rgba(60, 64, 67, 0.3), 0 1px 3px 1px rgba(60, 64, 67, 0.15);\n",
              "    fill: var(--button-hover-fill-color);\n",
              "  }\n",
              "\n",
              "  .colab-df-quickchart-complete:disabled,\n",
              "  .colab-df-quickchart-complete:disabled:hover {\n",
              "    background-color: var(--disabled-bg-color);\n",
              "    fill: var(--disabled-fill-color);\n",
              "    box-shadow: none;\n",
              "  }\n",
              "\n",
              "  .colab-df-spinner {\n",
              "    border: 2px solid var(--fill-color);\n",
              "    border-color: transparent;\n",
              "    border-bottom-color: var(--fill-color);\n",
              "    animation:\n",
              "      spin 1s steps(1) infinite;\n",
              "  }\n",
              "\n",
              "  @keyframes spin {\n",
              "    0% {\n",
              "      border-color: transparent;\n",
              "      border-bottom-color: var(--fill-color);\n",
              "      border-left-color: var(--fill-color);\n",
              "    }\n",
              "    20% {\n",
              "      border-color: transparent;\n",
              "      border-left-color: var(--fill-color);\n",
              "      border-top-color: var(--fill-color);\n",
              "    }\n",
              "    30% {\n",
              "      border-color: transparent;\n",
              "      border-left-color: var(--fill-color);\n",
              "      border-top-color: var(--fill-color);\n",
              "      border-right-color: var(--fill-color);\n",
              "    }\n",
              "    40% {\n",
              "      border-color: transparent;\n",
              "      border-right-color: var(--fill-color);\n",
              "      border-top-color: var(--fill-color);\n",
              "    }\n",
              "    60% {\n",
              "      border-color: transparent;\n",
              "      border-right-color: var(--fill-color);\n",
              "    }\n",
              "    80% {\n",
              "      border-color: transparent;\n",
              "      border-right-color: var(--fill-color);\n",
              "      border-bottom-color: var(--fill-color);\n",
              "    }\n",
              "    90% {\n",
              "      border-color: transparent;\n",
              "      border-bottom-color: var(--fill-color);\n",
              "    }\n",
              "  }\n",
              "</style>\n",
              "\n",
              "      <script>\n",
              "        async function quickchart(key) {\n",
              "          const quickchartButtonEl =\n",
              "            document.querySelector('#' + key + ' button');\n",
              "          quickchartButtonEl.disabled = true;  // To prevent multiple clicks.\n",
              "          quickchartButtonEl.classList.add('colab-df-spinner');\n",
              "          try {\n",
              "            const charts = await google.colab.kernel.invokeFunction(\n",
              "                'suggestCharts', [key], {});\n",
              "          } catch (error) {\n",
              "            console.error('Error during call to suggestCharts:', error);\n",
              "          }\n",
              "          quickchartButtonEl.classList.remove('colab-df-spinner');\n",
              "          quickchartButtonEl.classList.add('colab-df-quickchart-complete');\n",
              "        }\n",
              "        (() => {\n",
              "          let quickchartButtonEl =\n",
              "            document.querySelector('#df-8de38c31-62e6-4dc8-9cac-e87e9b73ea65 button');\n",
              "          quickchartButtonEl.style.display =\n",
              "            google.colab.kernel.accessAllowed ? 'block' : 'none';\n",
              "        })();\n",
              "      </script>\n",
              "    </div>\n",
              "\n",
              "    </div>\n",
              "  </div>\n"
            ],
            "application/vnd.google.colaboratory.intrinsic+json": {
              "type": "dataframe",
              "variable_name": "df",
              "summary": "{\n  \"name\": \"df\",\n  \"rows\": 1000,\n  \"fields\": [\n    {\n      \"column\": \"Title\",\n      \"properties\": {\n        \"dtype\": \"string\",\n        \"num_unique_values\": 999,\n        \"samples\": [\n          \"The Grownup\",\n          \"Persepolis: The Story of a Childhood (Persepolis #1-2)\",\n          \"Ayumi's Violin\"\n        ],\n        \"semantic_type\": \"\",\n        \"description\": \"\"\n      }\n    },\n    {\n      \"column\": \"Price\",\n      \"properties\": {\n        \"dtype\": \"string\",\n        \"num_unique_values\": 903,\n        \"samples\": [\n          \"\\u00c2\\u00a319.73\",\n          \"\\u00c2\\u00a355.65\",\n          \"\\u00c2\\u00a346.31\"\n        ],\n        \"semantic_type\": \"\",\n        \"description\": \"\"\n      }\n    },\n    {\n      \"column\": \"Availabilty\",\n      \"properties\": {\n        \"dtype\": \"category\",\n        \"num_unique_values\": 1,\n        \"samples\": [\n          \"In stock\"\n        ],\n        \"semantic_type\": \"\",\n        \"description\": \"\"\n      }\n    },\n    {\n      \"column\": \"Rating\",\n      \"properties\": {\n        \"dtype\": \"category\",\n        \"num_unique_values\": 5,\n        \"samples\": [\n          \"One\"\n        ],\n        \"semantic_type\": \"\",\n        \"description\": \"\"\n      }\n    }\n  ]\n}"
            }
          },
          "metadata": {},
          "execution_count": 5
        }
      ]
    },
    {
      "cell_type": "code",
      "source": [
        "df.shape"
      ],
      "metadata": {
        "colab": {
          "base_uri": "https://localhost:8080/"
        },
        "id": "2kyC_xzd2YQw",
        "outputId": "02c6df2a-6c4b-44c4-f57a-5bf8aceda60a"
      },
      "execution_count": null,
      "outputs": [
        {
          "output_type": "execute_result",
          "data": {
            "text/plain": [
              "(1000, 4)"
            ]
          },
          "metadata": {},
          "execution_count": 6
        }
      ]
    },
    {
      "cell_type": "markdown",
      "source": [
        "Q2. Write a Python program to scrape the IMDB Top 250 Movies list\n",
        "(https://www.imdb.com/chart/top/) . For each movie, extract the following details:\n",
        "1. Rank (1–250)\n",
        "2. Movie Title\n",
        "3. Year of Release\n",
        "4. IMDB Rating\n",
        "\n",
        "Store the results in a Pandas DataFrame and export it to a CSV file named imdb_top250.csv.\n",
        "(Note: Use Selenium/Playwright to scrape the required details from this website)"
      ],
      "metadata": {
        "id": "NSRFaglkVWKr"
      }
    },
    {
      "cell_type": "code",
      "source": [
        "!pip install selenium"
      ],
      "metadata": {
        "colab": {
          "base_uri": "https://localhost:8080/"
        },
        "collapsed": true,
        "id": "mIGjP_lj3E5N",
        "outputId": "954b50ba-afd0-45f1-9e1e-6358542da096"
      },
      "execution_count": null,
      "outputs": [
        {
          "output_type": "stream",
          "name": "stdout",
          "text": [
            "Requirement already satisfied: selenium in /usr/local/lib/python3.12/dist-packages (4.35.0)\n",
            "Requirement already satisfied: urllib3<3.0,>=2.5.0 in /usr/local/lib/python3.12/dist-packages (from urllib3[socks]<3.0,>=2.5.0->selenium) (2.5.0)\n",
            "Requirement already satisfied: trio~=0.30.0 in /usr/local/lib/python3.12/dist-packages (from selenium) (0.30.0)\n",
            "Requirement already satisfied: trio-websocket~=0.12.2 in /usr/local/lib/python3.12/dist-packages (from selenium) (0.12.2)\n",
            "Requirement already satisfied: certifi>=2025.6.15 in /usr/local/lib/python3.12/dist-packages (from selenium) (2025.8.3)\n",
            "Requirement already satisfied: typing_extensions~=4.14.0 in /usr/local/lib/python3.12/dist-packages (from selenium) (4.14.1)\n",
            "Requirement already satisfied: websocket-client~=1.8.0 in /usr/local/lib/python3.12/dist-packages (from selenium) (1.8.0)\n",
            "Requirement already satisfied: attrs>=23.2.0 in /usr/local/lib/python3.12/dist-packages (from trio~=0.30.0->selenium) (25.3.0)\n",
            "Requirement already satisfied: sortedcontainers in /usr/local/lib/python3.12/dist-packages (from trio~=0.30.0->selenium) (2.4.0)\n",
            "Requirement already satisfied: idna in /usr/local/lib/python3.12/dist-packages (from trio~=0.30.0->selenium) (3.10)\n",
            "Requirement already satisfied: outcome in /usr/local/lib/python3.12/dist-packages (from trio~=0.30.0->selenium) (1.3.0.post0)\n",
            "Requirement already satisfied: sniffio>=1.3.0 in /usr/local/lib/python3.12/dist-packages (from trio~=0.30.0->selenium) (1.3.1)\n",
            "Requirement already satisfied: wsproto>=0.14 in /usr/local/lib/python3.12/dist-packages (from trio-websocket~=0.12.2->selenium) (1.2.0)\n",
            "Requirement already satisfied: pysocks!=1.5.7,<2.0,>=1.5.6 in /usr/local/lib/python3.12/dist-packages (from urllib3[socks]<3.0,>=2.5.0->selenium) (1.7.1)\n",
            "Requirement already satisfied: h11<1,>=0.9.0 in /usr/local/lib/python3.12/dist-packages (from wsproto>=0.14->trio-websocket~=0.12.2->selenium) (0.16.0)\n"
          ]
        }
      ]
    },
    {
      "cell_type": "code",
      "source": [
        "from selenium import webdriver\n",
        "import time\n",
        "import tempfile\n",
        "\n",
        "options = webdriver.ChromeOptions()\n",
        "options.add_argument(\"--headless\")\n",
        "options.add_argument(\"--no-sandbox\")\n",
        "options.add_argument(\"--disable-dev-shm-usage\")\n",
        "options.add_argument(\"user-agent=Mozilla/5.0 (Windows NT 10.0; Win64; x64) \"\n",
        "                     \"AppleWebKit/537.36 (KHTML, like Gecko) \"\n",
        "                     \"Chrome/117.0.0.0 Safari/537.36\")\n",
        "\n",
        "# Make a unique temp directory for user data\n",
        "temp_profile = tempfile.mkdtemp()\n",
        "options.add_argument(f\"--user-data-dir={temp_profile}\")\n",
        "driver = webdriver.Chrome(options=options)\n",
        "\n",
        "url = \"https://www.imdb.com/chart/top/\"\n",
        "driver.get(url)\n",
        "\n",
        "time.sleep(3)\n",
        "\n",
        "html = driver.page_source\n",
        "\n",
        "driver.quit()\n",
        "print(html[:1000])"
      ],
      "metadata": {
        "colab": {
          "base_uri": "https://localhost:8080/"
        },
        "id": "vi-eL92k19zx",
        "outputId": "c73f7580-44f3-4715-d8b5-979d9aa7b75f"
      },
      "execution_count": 6,
      "outputs": [
        {
          "output_type": "stream",
          "name": "stdout",
          "text": [
            "<html lang=\"en-US\" xmlns:og=\"http://opengraphprotocol.org/schema/\" xmlns:fb=\"http://www.facebook.com/2008/fbml\" class=\" scriptsOn\"><head><script async=\"\" src=\"https://images-na.ssl-images-amazon.com/images/I/216YVwoRFDL.js\" crossorigin=\"anonymous\"></script><meta charset=\"utf-8\"><meta name=\"viewport\" content=\"width=device-width\"><script async=\"\" defer=\"\" src=\"https://launchpad.privacymanager.io/latest/launchpad.bundle.js\"></script><script src=\"https://cdn.hadronid.net/hadron.js?url=https%3A%2F%2Fwww.imdb.com%2Fchart%2Ftop%2F&amp;ref=&amp;_it=amazon&amp;partner_id=745\"></script><script>if(typeof uet === 'function'){ uet('bb', 'LoadTitle', {wb: 1}); }</script><title>IMDb Top 250 movies</title><meta name=\"description\" content=\"As rated by regular IMDb voters.\" data-id=\"main\"><meta name=\"google-site-verification\" content=\"0cadf7898134e79b\"><meta name=\"msvalidate.01\" content=\"C1DACEF2769068C0B0D2687C9E5105FA\"><meta name=\"robots\" content=\"max-image-preview:large\"><meta property=\"og:url\" conte\n"
          ]
        }
      ]
    },
    {
      "cell_type": "code",
      "source": [
        "soup = BeautifulSoup(html, \"html.parser\")\n",
        "\n",
        "# Find all movie items\n",
        "movies = soup.find_all(\"li\", class_=\"ipc-metadata-list-summary-item\")\n",
        "print(len(movies))"
      ],
      "metadata": {
        "colab": {
          "base_uri": "https://localhost:8080/"
        },
        "id": "90g-ze3c4q_o",
        "outputId": "802e7bc3-845f-4ee1-e01f-b1f6432461ca"
      },
      "execution_count": 7,
      "outputs": [
        {
          "output_type": "stream",
          "name": "stdout",
          "text": [
            "250\n"
          ]
        }
      ]
    },
    {
      "cell_type": "code",
      "source": [
        "movies=[]\n",
        "for m in soup.find_all('li',class_=\"ipc-metadata-list-summary-item\"):\n",
        "  text = m.find('h3', class_=\"ipc-title__text ipc-title__text--reduced\")\n",
        "  text = text.get_text(strip=True)\n",
        "  rank, title = text.split(\". \",1)\n",
        "\n",
        "  release = m.find('span',class_=\"cli-title-metadata-item\")\n",
        "  release = release.get_text(strip=True) if release else None\n",
        "  rating = m.find('span',class_=\"ipc-rating-star--rating\")\n",
        "  rating = rating.get_text(strip=True) if rating else None\n",
        "  movies.append({\"Rank\":rank, \"Title\":title, \"Release\":release, \"Rating\":rating})\n",
        "\n",
        "print(movies)\n",
        "\n",
        "df = pd.DataFrame(movies)\n",
        "df.to_csv(\"imdb_top250.csv\", index=False)"
      ],
      "metadata": {
        "id": "IMqS_JGIVcgh",
        "colab": {
          "base_uri": "https://localhost:8080/"
        },
        "outputId": "90f46a41-b67c-439a-81e5-bbdfd8046276"
      },
      "execution_count": 8,
      "outputs": [
        {
          "output_type": "stream",
          "name": "stdout",
          "text": [
            "[{'Rank': '1', 'Title': 'The Shawshank Redemption', 'Release': '1994', 'Rating': '9.3'}, {'Rank': '2', 'Title': 'The Godfather', 'Release': '1972', 'Rating': '9.2'}, {'Rank': '3', 'Title': 'The Dark Knight', 'Release': '2008', 'Rating': '9.1'}, {'Rank': '4', 'Title': 'The Godfather Part II', 'Release': '1974', 'Rating': '9.0'}, {'Rank': '5', 'Title': '12 Angry Men', 'Release': '1957', 'Rating': '9.0'}, {'Rank': '6', 'Title': 'The Lord of the Rings: The Return of the King', 'Release': '2003', 'Rating': '9.0'}, {'Rank': '7', 'Title': \"Schindler's List\", 'Release': '1993', 'Rating': '9.0'}, {'Rank': '8', 'Title': 'Pulp Fiction', 'Release': '1994', 'Rating': '8.8'}, {'Rank': '9', 'Title': 'The Lord of the Rings: The Fellowship of the Ring', 'Release': '2001', 'Rating': '8.9'}, {'Rank': '10', 'Title': 'The Good, the Bad and the Ugly', 'Release': '1966', 'Rating': '8.8'}, {'Rank': '11', 'Title': 'Forrest Gump', 'Release': '1994', 'Rating': '8.8'}, {'Rank': '12', 'Title': 'The Lord of the Rings: The Two Towers', 'Release': '2002', 'Rating': '8.8'}, {'Rank': '13', 'Title': 'Fight Club', 'Release': '1999', 'Rating': '8.8'}, {'Rank': '14', 'Title': 'Inception', 'Release': '2010', 'Rating': '8.8'}, {'Rank': '15', 'Title': 'Star Wars: Episode V - The Empire Strikes Back', 'Release': '1980', 'Rating': '8.7'}, {'Rank': '16', 'Title': 'The Matrix', 'Release': '1999', 'Rating': '8.7'}, {'Rank': '17', 'Title': 'Goodfellas', 'Release': '1990', 'Rating': '8.7'}, {'Rank': '18', 'Title': 'Interstellar', 'Release': '2014', 'Rating': '8.7'}, {'Rank': '19', 'Title': \"One Flew Over the Cuckoo's Nest\", 'Release': '1975', 'Rating': '8.7'}, {'Rank': '20', 'Title': 'Se7en', 'Release': '1995', 'Rating': '8.6'}, {'Rank': '21', 'Title': \"It's a Wonderful Life\", 'Release': '1946', 'Rating': '8.6'}, {'Rank': '22', 'Title': 'The Silence of the Lambs', 'Release': '1991', 'Rating': '8.6'}, {'Rank': '23', 'Title': 'Seven Samurai', 'Release': '1954', 'Rating': '8.6'}, {'Rank': '24', 'Title': 'Saving Private Ryan', 'Release': '1998', 'Rating': '8.6'}, {'Rank': '25', 'Title': 'The Green Mile', 'Release': '1999', 'Rating': '8.6'}, {'Rank': '26', 'Title': 'City of God', 'Release': '2002', 'Rating': '8.6'}, {'Rank': '27', 'Title': 'Life Is Beautiful', 'Release': '1997', 'Rating': '8.6'}, {'Rank': '28', 'Title': 'Terminator 2: Judgment Day', 'Release': '1991', 'Rating': '8.6'}, {'Rank': '29', 'Title': 'Star Wars: Episode IV - A New Hope', 'Release': '1977', 'Rating': '8.6'}, {'Rank': '30', 'Title': 'Back to the Future', 'Release': '1985', 'Rating': '8.5'}, {'Rank': '31', 'Title': 'Spirited Away', 'Release': '2001', 'Rating': '8.6'}, {'Rank': '32', 'Title': 'The Pianist', 'Release': '2002', 'Rating': '8.5'}, {'Rank': '33', 'Title': 'Gladiator', 'Release': '2000', 'Rating': '8.5'}, {'Rank': '34', 'Title': 'Parasite', 'Release': '2019', 'Rating': '8.5'}, {'Rank': '35', 'Title': 'Psycho', 'Release': '1960', 'Rating': '8.5'}, {'Rank': '36', 'Title': 'The Lion King', 'Release': '1994', 'Rating': '8.5'}, {'Rank': '37', 'Title': 'Grave of the Fireflies', 'Release': '1988', 'Rating': '8.5'}, {'Rank': '38', 'Title': 'The Departed', 'Release': '2006', 'Rating': '8.5'}, {'Rank': '39', 'Title': 'Whiplash', 'Release': '2014', 'Rating': '8.5'}, {'Rank': '40', 'Title': 'Harakiri', 'Release': '1962', 'Rating': '8.6'}, {'Rank': '41', 'Title': 'The Prestige', 'Release': '2006', 'Rating': '8.5'}, {'Rank': '42', 'Title': 'American History X', 'Release': '1998', 'Rating': '8.5'}, {'Rank': '43', 'Title': 'Léon: The Professional', 'Release': '1994', 'Rating': '8.5'}, {'Rank': '44', 'Title': 'Spider-Man: Across the Spider-Verse', 'Release': '2023', 'Rating': '8.5'}, {'Rank': '45', 'Title': 'Casablanca', 'Release': '1942', 'Rating': '8.5'}, {'Rank': '46', 'Title': 'Cinema Paradiso', 'Release': '1988', 'Rating': '8.5'}, {'Rank': '47', 'Title': 'The Intouchables', 'Release': '2011', 'Rating': '8.5'}, {'Rank': '48', 'Title': 'The Usual Suspects', 'Release': '1995', 'Rating': '8.5'}, {'Rank': '49', 'Title': 'Alien', 'Release': '1979', 'Rating': '8.5'}, {'Rank': '50', 'Title': 'Modern Times', 'Release': '1936', 'Rating': '8.5'}, {'Rank': '51', 'Title': 'Rear Window', 'Release': '1954', 'Rating': '8.5'}, {'Rank': '52', 'Title': 'Django Unchained', 'Release': '2012', 'Rating': '8.5'}, {'Rank': '53', 'Title': 'Once Upon a Time in the West', 'Release': '1968', 'Rating': '8.5'}, {'Rank': '54', 'Title': 'City Lights', 'Release': '1931', 'Rating': '8.5'}, {'Rank': '55', 'Title': 'Apocalypse Now', 'Release': '1979', 'Rating': '8.4'}, {'Rank': '56', 'Title': 'WALL·E', 'Release': '2008', 'Rating': '8.4'}, {'Rank': '57', 'Title': 'Memento', 'Release': '2000', 'Rating': '8.4'}, {'Rank': '58', 'Title': 'Dune: Part Two', 'Release': '2024', 'Rating': '8.5'}, {'Rank': '59', 'Title': 'Raiders of the Lost Ark', 'Release': '1981', 'Rating': '8.4'}, {'Rank': '60', 'Title': 'Avengers: Infinity War', 'Release': '2018', 'Rating': '8.4'}, {'Rank': '61', 'Title': 'The Lives of Others', 'Release': '2006', 'Rating': '8.4'}, {'Rank': '62', 'Title': 'Sunset Boulevard', 'Release': '1950', 'Rating': '8.4'}, {'Rank': '63', 'Title': 'Spider-Man: Into the Spider-Verse', 'Release': '2018', 'Rating': '8.4'}, {'Rank': '64', 'Title': 'Witness for the Prosecution', 'Release': '1957', 'Rating': '8.4'}, {'Rank': '65', 'Title': 'Paths of Glory', 'Release': '1957', 'Rating': '8.4'}, {'Rank': '66', 'Title': 'The Shining', 'Release': '1980', 'Rating': '8.4'}, {'Rank': '67', 'Title': 'The Great Dictator', 'Release': '1940', 'Rating': '8.4'}, {'Rank': '68', 'Title': 'Inglourious Basterds', 'Release': '2009', 'Rating': '8.4'}, {'Rank': '69', 'Title': '12th Fail', 'Release': '2023', 'Rating': '8.7'}, {'Rank': '70', 'Title': 'Aliens', 'Release': '1986', 'Rating': '8.4'}, {'Rank': '71', 'Title': 'The Dark Knight Rises', 'Release': '2012', 'Rating': '8.4'}, {'Rank': '72', 'Title': 'Coco', 'Release': '2017', 'Rating': '8.4'}, {'Rank': '73', 'Title': 'Amadeus', 'Release': '1984', 'Rating': '8.4'}, {'Rank': '74', 'Title': 'Avengers: Endgame', 'Release': '2019', 'Rating': '8.4'}, {'Rank': '75', 'Title': 'Good Will Hunting', 'Release': '1997', 'Rating': '8.3'}, {'Rank': '76', 'Title': 'Toy Story', 'Release': '1995', 'Rating': '8.3'}, {'Rank': '77', 'Title': 'High and Low', 'Release': '1963', 'Rating': '8.4'}, {'Rank': '78', 'Title': 'Dr. Strangelove or: How I Learned to Stop Worrying and Love the Bomb', 'Release': '1964', 'Rating': '8.3'}, {'Rank': '79', 'Title': 'Oldboy', 'Release': '2003', 'Rating': '8.3'}, {'Rank': '80', 'Title': 'Das Boot', 'Release': '1981', 'Rating': '8.4'}, {'Rank': '81', 'Title': 'Braveheart', 'Release': '1995', 'Rating': '8.3'}, {'Rank': '82', 'Title': 'Your Name.', 'Release': '2016', 'Rating': '8.4'}, {'Rank': '83', 'Title': 'Princess Mononoke', 'Release': '1997', 'Rating': '8.3'}, {'Rank': '84', 'Title': 'American Beauty', 'Release': '1999', 'Rating': '8.3'}, {'Rank': '85', 'Title': '3 Idiots', 'Release': '2009', 'Rating': '8.4'}, {'Rank': '86', 'Title': 'Joker', 'Release': '2019', 'Rating': '8.3'}, {'Rank': '87', 'Title': 'Capernaum', 'Release': '2018', 'Rating': '8.4'}, {'Rank': '88', 'Title': 'Once Upon a Time in America', 'Release': '1984', 'Rating': '8.3'}, {'Rank': '89', 'Title': \"Singin' in the Rain\", 'Release': '1952', 'Rating': '8.3'}, {'Rank': '90', 'Title': 'Come and See', 'Release': '1985', 'Rating': '8.3'}, {'Rank': '91', 'Title': 'Requiem for a Dream', 'Release': '2000', 'Rating': '8.3'}, {'Rank': '92', 'Title': 'Star Wars: Episode VI - Return of the Jedi', 'Release': '1983', 'Rating': '8.3'}, {'Rank': '93', 'Title': 'Toy Story 3', 'Release': '2010', 'Rating': '8.3'}, {'Rank': '94', 'Title': 'The Hunt', 'Release': '2012', 'Rating': '8.3'}, {'Rank': '95', 'Title': 'Ikiru', 'Release': '1952', 'Rating': '8.3'}, {'Rank': '96', 'Title': 'Eternal Sunshine of the Spotless Mind', 'Release': '2004', 'Rating': '8.3'}, {'Rank': '97', 'Title': 'Incendies', 'Release': '2010', 'Rating': '8.3'}, {'Rank': '98', 'Title': 'The Apartment', 'Release': '1960', 'Rating': '8.3'}, {'Rank': '99', 'Title': 'Lawrence of Arabia', 'Release': '1962', 'Rating': '8.3'}, {'Rank': '100', 'Title': '2001: A Space Odyssey', 'Release': '1968', 'Rating': '8.3'}, {'Rank': '101', 'Title': 'Reservoir Dogs', 'Release': '1992', 'Rating': '8.3'}, {'Rank': '102', 'Title': 'Scarface', 'Release': '1983', 'Rating': '8.3'}, {'Rank': '103', 'Title': 'Heat', 'Release': '1995', 'Rating': '8.3'}, {'Rank': '104', 'Title': 'Double Indemnity', 'Release': '1944', 'Rating': '8.3'}, {'Rank': '105', 'Title': 'North by Northwest', 'Release': '1959', 'Rating': '8.3'}, {'Rank': '106', 'Title': 'Up', 'Release': '2009', 'Rating': '8.3'}, {'Rank': '107', 'Title': 'M', 'Release': '1931', 'Rating': '8.3'}, {'Rank': '108', 'Title': 'Citizen Kane', 'Release': '1941', 'Rating': '8.2'}, {'Rank': '109', 'Title': 'Full Metal Jacket', 'Release': '1987', 'Rating': '8.2'}, {'Rank': '110', 'Title': 'Vertigo', 'Release': '1958', 'Rating': '8.2'}, {'Rank': '111', 'Title': 'Amélie', 'Release': '2001', 'Rating': '8.3'}, {'Rank': '112', 'Title': 'Like Stars on Earth', 'Release': '2007', 'Rating': '8.3'}, {'Rank': '113', 'Title': 'A Separation', 'Release': '2011', 'Rating': '8.3'}, {'Rank': '114', 'Title': 'To Kill a Mockingbird', 'Release': '1962', 'Rating': '8.3'}, {'Rank': '115', 'Title': 'Die Hard', 'Release': '1988', 'Rating': '8.2'}, {'Rank': '116', 'Title': 'Indiana Jones and the Last Crusade', 'Release': '1989', 'Rating': '8.2'}, {'Rank': '117', 'Title': 'The Sting', 'Release': '1973', 'Rating': '8.2'}, {'Rank': '118', 'Title': 'A Clockwork Orange', 'Release': '1971', 'Rating': '8.2'}, {'Rank': '119', 'Title': 'Metropolis', 'Release': '1927', 'Rating': '8.3'}, {'Rank': '120', 'Title': 'Oppenheimer', 'Release': '2023', 'Rating': '8.3'}, {'Rank': '121', 'Title': 'Snatch', 'Release': '2000', 'Rating': '8.2'}, {'Rank': '122', 'Title': '1917', 'Release': '2019', 'Rating': '8.2'}, {'Rank': '123', 'Title': 'L.A. Confidential', 'Release': '1997', 'Rating': '8.2'}, {'Rank': '124', 'Title': 'Bicycle Thieves', 'Release': '1948', 'Rating': '8.2'}, {'Rank': '125', 'Title': 'Downfall', 'Release': '2004', 'Rating': '8.2'}, {'Rank': '126', 'Title': 'Dangal', 'Release': '2016', 'Rating': '8.3'}, {'Rank': '127', 'Title': 'The Wolf of Wall Street', 'Release': '2013', 'Rating': '8.2'}, {'Rank': '128', 'Title': 'The Chaos Class Failed the Class', 'Release': '1975', 'Rating': '8.6'}, {'Rank': '129', 'Title': 'Green Book', 'Release': '2018', 'Rating': '8.2'}, {'Rank': '130', 'Title': 'The Truman Show', 'Release': '1998', 'Rating': '8.2'}, {'Rank': '131', 'Title': 'Hamilton', 'Release': '2020', 'Rating': '8.3'}, {'Rank': '132', 'Title': 'Taxi Driver', 'Release': '1976', 'Rating': '8.2'}, {'Rank': '133', 'Title': 'Batman Begins', 'Release': '2005', 'Rating': '8.2'}, {'Rank': '134', 'Title': 'For a Few Dollars More', 'Release': '1965', 'Rating': '8.2'}, {'Rank': '135', 'Title': 'Judgment at Nuremberg', 'Release': '1961', 'Rating': '8.3'}, {'Rank': '136', 'Title': 'Shutter Island', 'Release': '2010', 'Rating': '8.2'}, {'Rank': '137', 'Title': 'Some Like It Hot', 'Release': '1959', 'Rating': '8.2'}, {'Rank': '138', 'Title': 'Jurassic Park', 'Release': '1993', 'Rating': '8.2'}, {'Rank': '139', 'Title': 'The Kid', 'Release': '1921', 'Rating': '8.2'}, {'Rank': '140', 'Title': 'The Father', 'Release': '2020', 'Rating': '8.2'}, {'Rank': '141', 'Title': 'All About Eve', 'Release': '1950', 'Rating': '8.2'}, {'Rank': '142', 'Title': 'There Will Be Blood', 'Release': '2007', 'Rating': '8.2'}, {'Rank': '143', 'Title': 'The Sixth Sense', 'Release': '1999', 'Rating': '8.2'}, {'Rank': '144', 'Title': 'Ran', 'Release': '1985', 'Rating': '8.2'}, {'Rank': '145', 'Title': 'Casino', 'Release': '1995', 'Rating': '8.2'}, {'Rank': '146', 'Title': 'Top Gun: Maverick', 'Release': '2022', 'Rating': '8.2'}, {'Rank': '147', 'Title': 'No Country for Old Men', 'Release': '2007', 'Rating': '8.2'}, {'Rank': '148', 'Title': 'The Thing', 'Release': '1982', 'Rating': '8.2'}, {'Rank': '149', 'Title': 'Unforgiven', 'Release': '1992', 'Rating': '8.2'}, {'Rank': '150', 'Title': \"Pan's Labyrinth\", 'Release': '2006', 'Rating': '8.2'}, {'Rank': '151', 'Title': 'Kill Bill: Vol. 1', 'Release': '2003', 'Rating': '8.2'}, {'Rank': '152', 'Title': 'A Beautiful Mind', 'Release': '2001', 'Rating': '8.2'}, {'Rank': '153', 'Title': 'Prisoners', 'Release': '2013', 'Rating': '8.2'}, {'Rank': '154', 'Title': 'The Treasure of the Sierra Madre', 'Release': '1948', 'Rating': '8.2'}, {'Rank': '155', 'Title': 'Yojimbo', 'Release': '1961', 'Rating': '8.2'}, {'Rank': '156', 'Title': 'Finding Nemo', 'Release': '2003', 'Rating': '8.2'}, {'Rank': '157', 'Title': \"Howl's Moving Castle\", 'Release': '2004', 'Rating': '8.2'}, {'Rank': '158', 'Title': 'The Best of Youth', 'Release': '2003', 'Rating': '8.4'}, {'Rank': '159', 'Title': 'The Great Escape', 'Release': '1963', 'Rating': '8.2'}, {'Rank': '160', 'Title': 'Monty Python and the Holy Grail', 'Release': '1975', 'Rating': '8.2'}, {'Rank': '161', 'Title': 'The Elephant Man', 'Release': '1980', 'Rating': '8.2'}, {'Rank': '162', 'Title': 'Klaus', 'Release': '2019', 'Rating': '8.2'}, {'Rank': '163', 'Title': 'Dial M for Murder', 'Release': '1954', 'Rating': '8.2'}, {'Rank': '164', 'Title': 'Gone with the Wind', 'Release': '1939', 'Rating': '8.2'}, {'Rank': '165', 'Title': 'The Secret in Their Eyes', 'Release': '2009', 'Rating': '8.2'}, {'Rank': '166', 'Title': 'Chinatown', 'Release': '1974', 'Rating': '8.1'}, {'Rank': '167', 'Title': 'Lock, Stock and Two Smoking Barrels', 'Release': '1998', 'Rating': '8.1'}, {'Rank': '168', 'Title': 'V for Vendetta', 'Release': '2005', 'Rating': '8.1'}, {'Rank': '169', 'Title': 'Rashomon', 'Release': '1950', 'Rating': '8.1'}, {'Rank': '170', 'Title': 'Inside Out', 'Release': '2015', 'Rating': '8.1'}, {'Rank': '171', 'Title': 'Three Billboards Outside Ebbing, Missouri', 'Release': '2017', 'Rating': '8.1'}, {'Rank': '172', 'Title': 'Catch Me If You Can', 'Release': '2002', 'Rating': '8.1'}, {'Rank': '173', 'Title': 'Trainspotting', 'Release': '1996', 'Rating': '8.1'}, {'Rank': '174', 'Title': 'The Bridge on the River Kwai', 'Release': '1957', 'Rating': '8.1'}, {'Rank': '175', 'Title': 'Raging Bull', 'Release': '1980', 'Rating': '8.1'}, {'Rank': '176', 'Title': 'Harry Potter and the Deathly Hallows: Part 2', 'Release': '2011', 'Rating': '8.1'}, {'Rank': '177', 'Title': 'Fargo', 'Release': '1996', 'Rating': '8.1'}, {'Rank': '178', 'Title': 'The Wild Robot', 'Release': '2024', 'Rating': '8.2'}, {'Rank': '179', 'Title': 'Warrior', 'Release': '2011', 'Rating': '8.1'}, {'Rank': '180', 'Title': 'Million Dollar Baby', 'Release': '2004', 'Rating': '8.1'}, {'Rank': '181', 'Title': 'Dead Poets Society', 'Release': '1989', 'Rating': '8.1'}, {'Rank': '182', 'Title': 'Gran Torino', 'Release': '2008', 'Rating': '8.1'}, {'Rank': '183', 'Title': 'Ben-Hur', 'Release': '1959', 'Rating': '8.1'}, {'Rank': '184', 'Title': 'Mad Max: Fury Road', 'Release': '2015', 'Rating': '8.1'}, {'Rank': '185', 'Title': 'Barry Lyndon', 'Release': '1975', 'Rating': '8.1'}, {'Rank': '186', 'Title': 'My Neighbor Totoro', 'Release': '1988', 'Rating': '8.1'}, {'Rank': '187', 'Title': 'Children of Heaven', 'Release': '1997', 'Rating': '8.2'}, {'Rank': '188', 'Title': 'Hacksaw Ridge', 'Release': '2016', 'Rating': '8.1'}, {'Rank': '189', 'Title': 'The Grand Budapest Hotel', 'Release': '2014', 'Rating': '8.1'}, {'Rank': '190', 'Title': '12 Years a Slave', 'Release': '2013', 'Rating': '8.1'}, {'Rank': '191', 'Title': 'Before Sunrise', 'Release': '1995', 'Rating': '8.1'}, {'Rank': '192', 'Title': 'Spider-Man: No Way Home', 'Release': '2021', 'Rating': '8.2'}, {'Rank': '193', 'Title': 'Blade Runner', 'Release': '1982', 'Rating': '8.1'}, {'Rank': '194', 'Title': 'Memories of Murder', 'Release': '2003', 'Rating': '8.1'}, {'Rank': '195', 'Title': 'Gone Girl', 'Release': '2014', 'Rating': '8.1'}, {'Rank': '196', 'Title': 'Ratatouille', 'Release': '2007', 'Rating': '8.1'}, {'Rank': '197', 'Title': 'How to Train Your Dragon', 'Release': '2010', 'Rating': '8.1'}, {'Rank': '198', 'Title': 'Monsters, Inc.', 'Release': '2001', 'Rating': '8.1'}, {'Rank': '199', 'Title': 'Jaws', 'Release': '1975', 'Rating': '8.1'}, {'Rank': '200', 'Title': 'In the Name of the Father', 'Release': '1993', 'Rating': '8.1'}, {'Rank': '201', 'Title': 'Wild Tales', 'Release': '2014', 'Rating': '8.1'}, {'Rank': '202', 'Title': 'The Gold Rush', 'Release': '1925', 'Rating': '8.1'}, {'Rank': '203', 'Title': 'Ford v Ferrari', 'Release': '2019', 'Rating': '8.1'}, {'Rank': '204', 'Title': 'Sherlock Jr.', 'Release': '1924', 'Rating': '8.1'}, {'Rank': '205', 'Title': 'Mary and Max', 'Release': '2009', 'Rating': '8.1'}, {'Rank': '206', 'Title': 'The Deer Hunter', 'Release': '1978', 'Rating': '8.1'}, {'Rank': '207', 'Title': 'The Wages of Fear', 'Release': '1953', 'Rating': '8.1'}, {'Rank': '208', 'Title': 'The General', 'Release': '1926', 'Rating': '8.1'}, {'Rank': '209', 'Title': 'Mr. Smith Goes to Washington', 'Release': '1939', 'Rating': '8.1'}, {'Rank': '210', 'Title': 'On the Waterfront', 'Release': '1954', 'Rating': '8.1'}, {'Rank': '211', 'Title': 'Logan', 'Release': '2017', 'Rating': '8.1'}, {'Rank': '212', 'Title': 'Rocky', 'Release': '1976', 'Rating': '8.1'}, {'Rank': '213', 'Title': 'Wild Strawberries', 'Release': '1957', 'Rating': '8.1'}, {'Rank': '214', 'Title': 'Tokyo Story', 'Release': '1953', 'Rating': '8.1'}, {'Rank': '215', 'Title': 'The Third Man', 'Release': '1949', 'Rating': '8.1'}, {'Rank': '216', 'Title': 'Maharaja', 'Release': '2024', 'Rating': '8.4'}, {'Rank': '217', 'Title': 'Spotlight', 'Release': '2015', 'Rating': '8.1'}, {'Rank': '218', 'Title': 'Pirates of the Caribbean: The Curse of the Black Pearl', 'Release': '2003', 'Rating': '8.1'}, {'Rank': '219', 'Title': 'The Terminator', 'Release': '1984', 'Rating': '8.1'}, {'Rank': '220', 'Title': 'The Big Lebowski', 'Release': '1998', 'Rating': '8.1'}, {'Rank': '221', 'Title': 'La haine', 'Release': '1995', 'Rating': '8.1'}, {'Rank': '222', 'Title': 'Jai Bhim', 'Release': '2021', 'Rating': '8.6'}, {'Rank': '223', 'Title': 'The Seventh Seal', 'Release': '1957', 'Rating': '8.1'}, {'Rank': '224', 'Title': 'Room', 'Release': '2015', 'Rating': '8.1'}, {'Rank': '225', 'Title': 'Hotel Rwanda', 'Release': '2004', 'Rating': '8.1'}, {'Rank': '226', 'Title': 'Platoon', 'Release': '1986', 'Rating': '8.1'}, {'Rank': '227', 'Title': 'The Best Years of Our Lives', 'Release': '1946', 'Rating': '8.1'}, {'Rank': '228', 'Title': 'Before Sunset', 'Release': '2004', 'Rating': '8.1'}, {'Rank': '229', 'Title': 'The Sound of Music', 'Release': '1965', 'Rating': '8.1'}, {'Rank': '230', 'Title': 'The Exorcist', 'Release': '1973', 'Rating': '8.1'}, {'Rank': '231', 'Title': 'The Incredibles', 'Release': '2004', 'Rating': '8.0'}, {'Rank': '232', 'Title': \"Hachi: A Dog's Tale\", 'Release': '2009', 'Rating': '8.1'}, {'Rank': '233', 'Title': 'Rush', 'Release': '2013', 'Rating': '8.1'}, {'Rank': '234', 'Title': 'The Wizard of Oz', 'Release': '1939', 'Rating': '8.1'}, {'Rank': '235', 'Title': 'A Silent Voice: The Movie', 'Release': '2016', 'Rating': '8.1'}, {'Rank': '236', 'Title': 'The Passion of Joan of Arc', 'Release': '1928', 'Rating': '8.1'}, {'Rank': '237', 'Title': 'Stand by Me', 'Release': '1986', 'Rating': '8.1'}, {'Rank': '238', 'Title': 'The Iron Giant', 'Release': '1999', 'Rating': '8.1'}, {'Rank': '239', 'Title': 'My Father and My Son', 'Release': '2005', 'Rating': '8.2'}, {'Rank': '240', 'Title': 'The Handmaiden', 'Release': '2016', 'Rating': '8.1'}, {'Rank': '241', 'Title': 'Network', 'Release': '1976', 'Rating': '8.1'}, {'Rank': '242', 'Title': 'The Battle of Algiers', 'Release': '1966', 'Rating': '8.1'}, {'Rank': '243', 'Title': 'The Grapes of Wrath', 'Release': '1940', 'Rating': '8.1'}, {'Rank': '244', 'Title': 'To Be or Not to Be', 'Release': '1942', 'Rating': '8.1'}, {'Rank': '245', 'Title': 'Into the Wild', 'Release': '2007', 'Rating': '8.0'}, {'Rank': '246', 'Title': 'Demon Slayer: Kimetsu no Yaiba - The Movie: Mugen Train', 'Release': '2020', 'Rating': '8.2'}, {'Rank': '247', 'Title': 'The Help', 'Release': '2011', 'Rating': '8.1'}, {'Rank': '248', 'Title': 'Gangs of Wasseypur', 'Release': '2012', 'Rating': '8.2'}, {'Rank': '249', 'Title': 'Drishyam', 'Release': '2015', 'Rating': '8.2'}, {'Rank': '250', 'Title': 'Groundhog Day', 'Release': '1993', 'Rating': '8.0'}]\n"
          ]
        }
      ]
    },
    {
      "cell_type": "code",
      "source": [
        "df.head()"
      ],
      "metadata": {
        "colab": {
          "base_uri": "https://localhost:8080/",
          "height": 206
        },
        "id": "DksR5Nk1xYoE",
        "outputId": "adc9b8ca-b122-4b0f-e6c1-40bcd8964bfe"
      },
      "execution_count": 9,
      "outputs": [
        {
          "output_type": "execute_result",
          "data": {
            "text/plain": [
              "  Rank                     Title Release Rating\n",
              "0    1  The Shawshank Redemption    1994    9.3\n",
              "1    2             The Godfather    1972    9.2\n",
              "2    3           The Dark Knight    2008    9.1\n",
              "3    4     The Godfather Part II    1974    9.0\n",
              "4    5              12 Angry Men    1957    9.0"
            ],
            "text/html": [
              "\n",
              "  <div id=\"df-cd3f3fd8-da16-4431-b5f8-a77cc9a4a7a5\" class=\"colab-df-container\">\n",
              "    <div>\n",
              "<style scoped>\n",
              "    .dataframe tbody tr th:only-of-type {\n",
              "        vertical-align: middle;\n",
              "    }\n",
              "\n",
              "    .dataframe tbody tr th {\n",
              "        vertical-align: top;\n",
              "    }\n",
              "\n",
              "    .dataframe thead th {\n",
              "        text-align: right;\n",
              "    }\n",
              "</style>\n",
              "<table border=\"1\" class=\"dataframe\">\n",
              "  <thead>\n",
              "    <tr style=\"text-align: right;\">\n",
              "      <th></th>\n",
              "      <th>Rank</th>\n",
              "      <th>Title</th>\n",
              "      <th>Release</th>\n",
              "      <th>Rating</th>\n",
              "    </tr>\n",
              "  </thead>\n",
              "  <tbody>\n",
              "    <tr>\n",
              "      <th>0</th>\n",
              "      <td>1</td>\n",
              "      <td>The Shawshank Redemption</td>\n",
              "      <td>1994</td>\n",
              "      <td>9.3</td>\n",
              "    </tr>\n",
              "    <tr>\n",
              "      <th>1</th>\n",
              "      <td>2</td>\n",
              "      <td>The Godfather</td>\n",
              "      <td>1972</td>\n",
              "      <td>9.2</td>\n",
              "    </tr>\n",
              "    <tr>\n",
              "      <th>2</th>\n",
              "      <td>3</td>\n",
              "      <td>The Dark Knight</td>\n",
              "      <td>2008</td>\n",
              "      <td>9.1</td>\n",
              "    </tr>\n",
              "    <tr>\n",
              "      <th>3</th>\n",
              "      <td>4</td>\n",
              "      <td>The Godfather Part II</td>\n",
              "      <td>1974</td>\n",
              "      <td>9.0</td>\n",
              "    </tr>\n",
              "    <tr>\n",
              "      <th>4</th>\n",
              "      <td>5</td>\n",
              "      <td>12 Angry Men</td>\n",
              "      <td>1957</td>\n",
              "      <td>9.0</td>\n",
              "    </tr>\n",
              "  </tbody>\n",
              "</table>\n",
              "</div>\n",
              "    <div class=\"colab-df-buttons\">\n",
              "\n",
              "  <div class=\"colab-df-container\">\n",
              "    <button class=\"colab-df-convert\" onclick=\"convertToInteractive('df-cd3f3fd8-da16-4431-b5f8-a77cc9a4a7a5')\"\n",
              "            title=\"Convert this dataframe to an interactive table.\"\n",
              "            style=\"display:none;\">\n",
              "\n",
              "  <svg xmlns=\"http://www.w3.org/2000/svg\" height=\"24px\" viewBox=\"0 -960 960 960\">\n",
              "    <path d=\"M120-120v-720h720v720H120Zm60-500h600v-160H180v160Zm220 220h160v-160H400v160Zm0 220h160v-160H400v160ZM180-400h160v-160H180v160Zm440 0h160v-160H620v160ZM180-180h160v-160H180v160Zm440 0h160v-160H620v160Z\"/>\n",
              "  </svg>\n",
              "    </button>\n",
              "\n",
              "  <style>\n",
              "    .colab-df-container {\n",
              "      display:flex;\n",
              "      gap: 12px;\n",
              "    }\n",
              "\n",
              "    .colab-df-convert {\n",
              "      background-color: #E8F0FE;\n",
              "      border: none;\n",
              "      border-radius: 50%;\n",
              "      cursor: pointer;\n",
              "      display: none;\n",
              "      fill: #1967D2;\n",
              "      height: 32px;\n",
              "      padding: 0 0 0 0;\n",
              "      width: 32px;\n",
              "    }\n",
              "\n",
              "    .colab-df-convert:hover {\n",
              "      background-color: #E2EBFA;\n",
              "      box-shadow: 0px 1px 2px rgba(60, 64, 67, 0.3), 0px 1px 3px 1px rgba(60, 64, 67, 0.15);\n",
              "      fill: #174EA6;\n",
              "    }\n",
              "\n",
              "    .colab-df-buttons div {\n",
              "      margin-bottom: 4px;\n",
              "    }\n",
              "\n",
              "    [theme=dark] .colab-df-convert {\n",
              "      background-color: #3B4455;\n",
              "      fill: #D2E3FC;\n",
              "    }\n",
              "\n",
              "    [theme=dark] .colab-df-convert:hover {\n",
              "      background-color: #434B5C;\n",
              "      box-shadow: 0px 1px 3px 1px rgba(0, 0, 0, 0.15);\n",
              "      filter: drop-shadow(0px 1px 2px rgba(0, 0, 0, 0.3));\n",
              "      fill: #FFFFFF;\n",
              "    }\n",
              "  </style>\n",
              "\n",
              "    <script>\n",
              "      const buttonEl =\n",
              "        document.querySelector('#df-cd3f3fd8-da16-4431-b5f8-a77cc9a4a7a5 button.colab-df-convert');\n",
              "      buttonEl.style.display =\n",
              "        google.colab.kernel.accessAllowed ? 'block' : 'none';\n",
              "\n",
              "      async function convertToInteractive(key) {\n",
              "        const element = document.querySelector('#df-cd3f3fd8-da16-4431-b5f8-a77cc9a4a7a5');\n",
              "        const dataTable =\n",
              "          await google.colab.kernel.invokeFunction('convertToInteractive',\n",
              "                                                    [key], {});\n",
              "        if (!dataTable) return;\n",
              "\n",
              "        const docLinkHtml = 'Like what you see? Visit the ' +\n",
              "          '<a target=\"_blank\" href=https://colab.research.google.com/notebooks/data_table.ipynb>data table notebook</a>'\n",
              "          + ' to learn more about interactive tables.';\n",
              "        element.innerHTML = '';\n",
              "        dataTable['output_type'] = 'display_data';\n",
              "        await google.colab.output.renderOutput(dataTable, element);\n",
              "        const docLink = document.createElement('div');\n",
              "        docLink.innerHTML = docLinkHtml;\n",
              "        element.appendChild(docLink);\n",
              "      }\n",
              "    </script>\n",
              "  </div>\n",
              "\n",
              "\n",
              "    <div id=\"df-ec9819d9-3018-4083-91b5-275285259e45\">\n",
              "      <button class=\"colab-df-quickchart\" onclick=\"quickchart('df-ec9819d9-3018-4083-91b5-275285259e45')\"\n",
              "                title=\"Suggest charts\"\n",
              "                style=\"display:none;\">\n",
              "\n",
              "<svg xmlns=\"http://www.w3.org/2000/svg\" height=\"24px\"viewBox=\"0 0 24 24\"\n",
              "     width=\"24px\">\n",
              "    <g>\n",
              "        <path d=\"M19 3H5c-1.1 0-2 .9-2 2v14c0 1.1.9 2 2 2h14c1.1 0 2-.9 2-2V5c0-1.1-.9-2-2-2zM9 17H7v-7h2v7zm4 0h-2V7h2v10zm4 0h-2v-4h2v4z\"/>\n",
              "    </g>\n",
              "</svg>\n",
              "      </button>\n",
              "\n",
              "<style>\n",
              "  .colab-df-quickchart {\n",
              "      --bg-color: #E8F0FE;\n",
              "      --fill-color: #1967D2;\n",
              "      --hover-bg-color: #E2EBFA;\n",
              "      --hover-fill-color: #174EA6;\n",
              "      --disabled-fill-color: #AAA;\n",
              "      --disabled-bg-color: #DDD;\n",
              "  }\n",
              "\n",
              "  [theme=dark] .colab-df-quickchart {\n",
              "      --bg-color: #3B4455;\n",
              "      --fill-color: #D2E3FC;\n",
              "      --hover-bg-color: #434B5C;\n",
              "      --hover-fill-color: #FFFFFF;\n",
              "      --disabled-bg-color: #3B4455;\n",
              "      --disabled-fill-color: #666;\n",
              "  }\n",
              "\n",
              "  .colab-df-quickchart {\n",
              "    background-color: var(--bg-color);\n",
              "    border: none;\n",
              "    border-radius: 50%;\n",
              "    cursor: pointer;\n",
              "    display: none;\n",
              "    fill: var(--fill-color);\n",
              "    height: 32px;\n",
              "    padding: 0;\n",
              "    width: 32px;\n",
              "  }\n",
              "\n",
              "  .colab-df-quickchart:hover {\n",
              "    background-color: var(--hover-bg-color);\n",
              "    box-shadow: 0 1px 2px rgba(60, 64, 67, 0.3), 0 1px 3px 1px rgba(60, 64, 67, 0.15);\n",
              "    fill: var(--button-hover-fill-color);\n",
              "  }\n",
              "\n",
              "  .colab-df-quickchart-complete:disabled,\n",
              "  .colab-df-quickchart-complete:disabled:hover {\n",
              "    background-color: var(--disabled-bg-color);\n",
              "    fill: var(--disabled-fill-color);\n",
              "    box-shadow: none;\n",
              "  }\n",
              "\n",
              "  .colab-df-spinner {\n",
              "    border: 2px solid var(--fill-color);\n",
              "    border-color: transparent;\n",
              "    border-bottom-color: var(--fill-color);\n",
              "    animation:\n",
              "      spin 1s steps(1) infinite;\n",
              "  }\n",
              "\n",
              "  @keyframes spin {\n",
              "    0% {\n",
              "      border-color: transparent;\n",
              "      border-bottom-color: var(--fill-color);\n",
              "      border-left-color: var(--fill-color);\n",
              "    }\n",
              "    20% {\n",
              "      border-color: transparent;\n",
              "      border-left-color: var(--fill-color);\n",
              "      border-top-color: var(--fill-color);\n",
              "    }\n",
              "    30% {\n",
              "      border-color: transparent;\n",
              "      border-left-color: var(--fill-color);\n",
              "      border-top-color: var(--fill-color);\n",
              "      border-right-color: var(--fill-color);\n",
              "    }\n",
              "    40% {\n",
              "      border-color: transparent;\n",
              "      border-right-color: var(--fill-color);\n",
              "      border-top-color: var(--fill-color);\n",
              "    }\n",
              "    60% {\n",
              "      border-color: transparent;\n",
              "      border-right-color: var(--fill-color);\n",
              "    }\n",
              "    80% {\n",
              "      border-color: transparent;\n",
              "      border-right-color: var(--fill-color);\n",
              "      border-bottom-color: var(--fill-color);\n",
              "    }\n",
              "    90% {\n",
              "      border-color: transparent;\n",
              "      border-bottom-color: var(--fill-color);\n",
              "    }\n",
              "  }\n",
              "</style>\n",
              "\n",
              "      <script>\n",
              "        async function quickchart(key) {\n",
              "          const quickchartButtonEl =\n",
              "            document.querySelector('#' + key + ' button');\n",
              "          quickchartButtonEl.disabled = true;  // To prevent multiple clicks.\n",
              "          quickchartButtonEl.classList.add('colab-df-spinner');\n",
              "          try {\n",
              "            const charts = await google.colab.kernel.invokeFunction(\n",
              "                'suggestCharts', [key], {});\n",
              "          } catch (error) {\n",
              "            console.error('Error during call to suggestCharts:', error);\n",
              "          }\n",
              "          quickchartButtonEl.classList.remove('colab-df-spinner');\n",
              "          quickchartButtonEl.classList.add('colab-df-quickchart-complete');\n",
              "        }\n",
              "        (() => {\n",
              "          let quickchartButtonEl =\n",
              "            document.querySelector('#df-ec9819d9-3018-4083-91b5-275285259e45 button');\n",
              "          quickchartButtonEl.style.display =\n",
              "            google.colab.kernel.accessAllowed ? 'block' : 'none';\n",
              "        })();\n",
              "      </script>\n",
              "    </div>\n",
              "\n",
              "    </div>\n",
              "  </div>\n"
            ],
            "application/vnd.google.colaboratory.intrinsic+json": {
              "type": "dataframe",
              "variable_name": "df",
              "summary": "{\n  \"name\": \"df\",\n  \"rows\": 250,\n  \"fields\": [\n    {\n      \"column\": \"Rank\",\n      \"properties\": {\n        \"dtype\": \"string\",\n        \"num_unique_values\": 250,\n        \"samples\": [\n          \"143\",\n          \"7\",\n          \"98\"\n        ],\n        \"semantic_type\": \"\",\n        \"description\": \"\"\n      }\n    },\n    {\n      \"column\": \"Title\",\n      \"properties\": {\n        \"dtype\": \"string\",\n        \"num_unique_values\": 250,\n        \"samples\": [\n          \"The Sixth Sense\",\n          \"Schindler's List\",\n          \"The Apartment\"\n        ],\n        \"semantic_type\": \"\",\n        \"description\": \"\"\n      }\n    },\n    {\n      \"column\": \"Release\",\n      \"properties\": {\n        \"dtype\": \"object\",\n        \"num_unique_values\": 85,\n        \"samples\": [\n          \"1925\",\n          \"1994\",\n          \"2005\"\n        ],\n        \"semantic_type\": \"\",\n        \"description\": \"\"\n      }\n    },\n    {\n      \"column\": \"Rating\",\n      \"properties\": {\n        \"dtype\": \"category\",\n        \"num_unique_values\": 14,\n        \"samples\": [\n          \"8.4\",\n          \"8.2\",\n          \"9.3\"\n        ],\n        \"semantic_type\": \"\",\n        \"description\": \"\"\n      }\n    }\n  ]\n}"
            }
          },
          "metadata": {},
          "execution_count": 9
        }
      ]
    },
    {
      "cell_type": "code",
      "source": [
        "df.shape"
      ],
      "metadata": {
        "colab": {
          "base_uri": "https://localhost:8080/"
        },
        "id": "QHqUCYui5-dQ",
        "outputId": "2f474524-9cd4-4334-86e4-7395660004dc"
      },
      "execution_count": 10,
      "outputs": [
        {
          "output_type": "execute_result",
          "data": {
            "text/plain": [
              "(250, 4)"
            ]
          },
          "metadata": {},
          "execution_count": 10
        }
      ]
    },
    {
      "cell_type": "markdown",
      "source": [
        "Q3. Write a Python program to scrape the weather information for top world cities from the\n",
        "given website (https://www.timeanddate.com/weather/) . For each city, extract the following\n",
        "details:\n",
        "1. City Name\n",
        "2. Temperature\n",
        "3. Weather Condition (e.g., Clear, Cloudy, Rainy, etc.)\n",
        "\n",
        "Store the results in a Pandas DataFrame and export it to a CSV file named weather.csv."
      ],
      "metadata": {
        "id": "El5tRk7-Vc12"
      }
    },
    {
      "cell_type": "code",
      "source": [
        "import requests\n",
        "from bs4 import BeautifulSoup\n",
        "import pandas as pd\n",
        "\n",
        "url = \"https://www.timeanddate.com/weather\"\n",
        "headers = {\"User-Agent\": \"Mozilla/5.0\"}\n",
        "res = requests.get(url, headers=headers)\n",
        "\n",
        "soup = BeautifulSoup(res.text, \"html.parser\")\n",
        "\n",
        "movies = []\n",
        "for row in soup.find_all(\"tr\"):\n",
        "    cols = row.find_all(\"td\")\n",
        "    if len(cols) >= 4:  # only process rows that have enough columns\n",
        "        city = cols[0].get_text(strip=True)\n",
        "\n",
        "        # weather condition from <img alt=\"\">\n",
        "        condition = None\n",
        "        if cols[2].find(\"img\"):\n",
        "            condition = cols[2].find(\"img\")[\"alt\"]\n",
        "\n",
        "        temp = cols[3].get_text(strip=True)\n",
        "\n",
        "        movies.append({\"City\": city, \"Temperature\": temp, \"Condition\": condition})\n",
        "\n",
        "df = pd.DataFrame(movies)\n",
        "df.to_csv(\"weather.csv\", index=False)\n",
        "\n",
        "print(df.head(10))\n"
      ],
      "metadata": {
        "colab": {
          "base_uri": "https://localhost:8080/"
        },
        "id": "cGGVU3f9LUlI",
        "outputId": "8b5cbf54-bd71-451e-e0cb-a625a4ee9584"
      },
      "execution_count": 19,
      "outputs": [
        {
          "output_type": "stream",
          "name": "stdout",
          "text": [
            "          City Temperature                      Condition\n",
            "0        Accra       77 °F            Partly sunny. Warm.\n",
            "1  Addis Ababa       63 °F          Passing clouds. Mild.\n",
            "2     Adelaide       50 °F                    Quite cool.\n",
            "3      Algiers       79 °F          Passing clouds. Warm.\n",
            "4       Almaty       55 °F      Clear. Refreshingly cool.\n",
            "5        Amman       77 °F                   Clear. Warm.\n",
            "6   Amsterdam*       66 °F          Passing clouds. Mild.\n",
            "7       Anadyr       41 °F  Scattered clouds. Quite cool.\n",
            "8   Anchorage*       61 °F           Mostly cloudy. Cool.\n",
            "9       Ankara       77 °F                   Clear. Warm.\n"
          ]
        }
      ]
    }
  ]
}