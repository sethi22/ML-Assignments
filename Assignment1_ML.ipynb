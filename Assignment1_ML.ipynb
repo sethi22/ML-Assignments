{
 "cells": [
  {
   "cell_type": "markdown",
   "id": "8b865113-90a1-40ed-990b-b5bc5625d55a",
   "metadata": {},
   "source": [
    "**Name - Gaurav Sethi**\n",
    "**Roll No. - 102317030**\n",
    "**Subgroup - 3Q-11**\n",
    "**Assignment-1 (NumPy)**"
   ]
  },
  {
   "cell_type": "code",
   "execution_count": 1,
   "id": "44019cb0-a3d7-4546-842c-bc645ca13d0e",
   "metadata": {},
   "outputs": [],
   "source": [
    "import numpy as np"
   ]
  },
  {
   "cell_type": "code",
   "execution_count": 12,
   "id": "7becbca4-51f3-4d83-9c6f-686e5c343c64",
   "metadata": {},
   "outputs": [
    {
     "name": "stdout",
     "output_type": "stream",
     "text": [
      "Q1(a) Reversed: [5 4 6 3 2 1]\n"
     ]
    }
   ],
   "source": [
    "# Q1(a)\n",
    "arr = np.array([1, 2, 3, 6, 4, 5])\n",
    "reversed_arr = arr[::-1]\n",
    "print(\"Q1(a) Reversed:\", reversed_arr)"
   ]
  },
  {
   "cell_type": "code",
   "execution_count": 13,
   "id": "35633207-2071-429c-86c2-987f82128121",
   "metadata": {},
   "outputs": [
    {
     "name": "stdout",
     "output_type": "stream",
     "text": [
      "Q1(b) Flattened1: [1 2 3 2 4 5 1 2 3]\n",
      "Q1(b) Flattened2: [1 2 3 2 4 5 1 2 3]\n"
     ]
    }
   ],
   "source": [
    "# Q1(b)\n",
    "array1 = np.array([[1, 2, 3], [2, 4, 5], [1, 2, 3]])\n",
    "flattened1 = array1.flatten()\n",
    "flattened2 = array1.ravel()\n",
    "print(\"Q1(b) Flattened1:\", flattened1)\n",
    "print(\"Q1(b) Flattened2:\", flattened2)"
   ]
  },
  {
   "cell_type": "code",
   "execution_count": 4,
   "id": "0df63c1b-7167-40c9-8a3b-5586f11aef85",
   "metadata": {},
   "outputs": [
    {
     "name": "stdout",
     "output_type": "stream",
     "text": [
      "Q1(c) Are Equal: True\n"
     ]
    }
   ],
   "source": [
    "# Q1(c)\n",
    "arr1 = np.array([[1, 2], [3, 4]])\n",
    "arr2 = np.array([[1, 2], [3, 4]])\n",
    "are_equal = np.array_equal(arr1, arr2)\n",
    "print(\"Q1(c) Are Equal:\", are_equal)"
   ]
  },
  {
   "cell_type": "code",
   "execution_count": 5,
   "id": "dc147657-fb66-4c8b-bcf3-70977fe42eac",
   "metadata": {},
   "outputs": [
    {
     "name": "stdout",
     "output_type": "stream",
     "text": [
      "Q1(d.i) Most Frequent Value: [1]\n",
      "Q1(d.i) Indices: [0 5 7 8 9]\n"
     ]
    }
   ],
   "source": [
    "# Q1(d.i)\n",
    "x = np.array([1,2,3,4,5,1,2,1,1,1])\n",
    "values_x, counts_x = np.unique(x, return_counts=True)\n",
    "max_count_x = np.max(counts_x)\n",
    "most_freq_x = values_x[counts_x == max_count_x]\n",
    "indices_x = np.where(x == most_freq_x[0])[0]\n",
    "print(\"Q1(d.i) Most Frequent Value:, most_freq_x)\n",
    "print(\"Q1(d.i) Indices:\", indices_x)"
   ]
  },
  {
   "cell_type": "code",
   "execution_count": 6,
   "id": "fc09a978-b019-41cf-90dd-72732420e649",
   "metadata": {},
   "outputs": [
    {
     "name": "stdout",
     "output_type": "stream",
     "text": [
      "Q1(d.ii) Most Frequent Value: [1 3]\n",
      "Q1(d.ii) Indices: [0 1 2]\n"
     ]
    }
   ],
   "source": [
    "# Q1(d.ii)\n",
    "y = np.array([1, 1, 1, 2, 3, 4, 2, 4, 3, 3])\n",
    "values_y, counts_y = np.unique(y, return_counts=True)\n",
    "max_count_y = np.max(counts_y)\n",
    "most_freq_y = values_y[counts_y == max_count_y]\n",
    "indices_y = np.where(y == most_freq_y[0])[0]\n",
    "print(\"Q1(d.ii) Most Frequent Value:\", most_freq_y)\n",
    "print(\"Q1(d.ii) Indices:\", indices_y)"
   ]
  },
  {
   "cell_type": "code",
   "execution_count": 7,
   "id": "8e4ef561-9bcf-40d6-ad28-283058286d69",
   "metadata": {},
   "outputs": [
    {
     "name": "stdout",
     "output_type": "stream",
     "text": [
      "Q1(e) Sum All: 45\n",
      "Q1(e) Sum Rows: [[14]\n",
      " [16]\n",
      " [15]]\n",
      "Q1(e) Sum Columns: [[20  9 16]]\n"
     ]
    }
   ],
   "source": [
    "# Q1(e)\n",
    "gfg = np.matrix('[4, 1, 9; 12, 3, 1; 4, 5, 6]')\n",
    "sum_all = gfg.sum()\n",
    "sum_rows = gfg.sum(axis=1)\n",
    "sum_cols = gfg.sum(axis=0)\n",
    "print(\"Q1(e) Sum All:\", sum_all)\n",
    "print(\"Q1(e) Sum Rows:\", sum_rows)\n",
    "print(\"Q1(e) Sum Columns:\", sum_cols)"
   ]
  },
  {
   "cell_type": "code",
   "execution_count": 8,
   "id": "51187232-02a0-47f3-a42b-1fec7fc683cd",
   "metadata": {},
   "outputs": [
    {
     "name": "stdout",
     "output_type": "stream",
     "text": [
      "Q1(f) Diagonal Sum: 176\n",
      "Q1(f) Eigenvalues: [98.16835147 28.097044   49.73460452]\n",
      "Q1(f) Eigenvectors: EigResult(eigenvalues=array([98.16835147, 28.097044  , 49.73460452]), eigenvectors=array([[ 0.4574917 ,  0.34637121, -0.15017693],\n",
      "       [ 0.28447814, -0.72784061, -0.4852124 ],\n",
      "       [ 0.84248058,  0.59184038,  0.8614034 ]]))\n",
      "Q1(f) Inverse: [[ 0.02404141 -0.00911212 -0.00444671]\n",
      " [-0.01667882  0.02966905  0.0024785 ]\n",
      " [ 0.00631287 -0.01603732  0.01217379]]\n",
      "Q1(f) Determinant: 137180.0000000001\n"
     ]
    }
   ],
   "source": [
    "# Q1(f)\n",
    "n_array = np.array([[55, 25, 15],[30, 44, 2],[11, 45, 77]])\n",
    "diag_sum = np.trace(n_array)\n",
    "eig_vals = np.linalg.eigvals(n_array)\n",
    "eig_vecs = np.linalg.eig(n_array)\n",
    "inv_matrix = np.linalg.inv(n_array)\n",
    "det_matrix = np.linalg.det(n_array)\n",
    "print(\"Q1(f) Diagonal Sum:\", diag_sum)\n",
    "print(\"Q1(f) Eigenvalues:\", eig_vals)\n",
    "print(\"Q1(f) Eigenvectors:\", eig_vecs)\n",
    "print(\"Q1(f) Inverse:\", inv_matrix)\n",
    "print(\"Q1(f) Determinant:\", det_matrix)"
   ]
  },
  {
   "cell_type": "code",
   "execution_count": 9,
   "id": "efe78ad7-d619-4967-9ada-0458f8c2e78b",
   "metadata": {},
   "outputs": [
    {
     "name": "stdout",
     "output_type": "stream",
     "text": [
      "Q1(g.i) Dot Product: [[16 19]\n",
      " [26 31]]\n",
      "Q1(g.i) Covariance: [[0.5 0.5 0.5 0.5]\n",
      " [0.5 0.5 0.5 0.5]\n",
      " [0.5 0.5 0.5 0.5]\n",
      " [0.5 0.5 0.5 0.5]]\n"
     ]
    }
   ],
   "source": [
    "# Q1(g.i)\n",
    "p1 = np.array([[1, 2], [2, 3]])\n",
    "q1 = np.array([[4, 5], [6, 7]])\n",
    "dot1 = np.dot(p1, q1)\n",
    "cov1 = np.cov(p1, q1)\n",
    "print(\"Q1(g.i) Dot Product:\", dot1)\n",
    "print(\"Q1(g.i) Covariance:\", cov1)"
   ]
  },
  {
   "cell_type": "code",
   "execution_count": 10,
   "id": "10c115e8-c983-40d3-adc1-7d316d2516fb",
   "metadata": {},
   "outputs": [
    {
     "name": "stdout",
     "output_type": "stream",
     "text": [
      "Q1(g.ii) Dot Product: [[16 19  5]\n",
      " [26 31  8]\n",
      " [46 55 14]]\n",
      "Q1(g.ii) Covariance: [[ 2.33333333  2.33333333 -2.66666667 -3.5       ]\n",
      " [ 2.33333333  2.33333333 -2.66666667 -3.5       ]\n",
      " [-2.66666667 -2.66666667  4.33333333  5.5       ]\n",
      " [-3.5        -3.5         5.5         7.        ]]\n"
     ]
    }
   ],
   "source": [
    "# Q1(g.ii)\n",
    "p2 = np.array([[1, 2], [2, 3], [4, 5]])\n",
    "q2 = np.array([[4, 5, 1], [6, 7, 2]])\n",
    "dot2 = np.dot(p2, q2)\n",
    "cov2 = np.cov(p2.T, q2)\n",
    "print(\"Q1(g.ii) Dot Product:\", dot2)\n",
    "print(\"Q1(g.ii) Covariance:\", cov2)"
   ]
  },
  {
   "cell_type": "code",
   "execution_count": 11,
   "id": "25948e5c-0e34-4702-9457-fee69a9b265e",
   "metadata": {},
   "outputs": [
    {
     "name": "stdout",
     "output_type": "stream",
     "text": [
      "Q1(h) Inner Product: [[17 52]\n",
      " [13 62]]\n",
      "Q1(h) Outer Product: [[ 2 10  0 10 20  6]\n",
      " [ 3 15  0 15 30  9]\n",
      " [ 4 20  0 20 40 12]\n",
      " [ 3 15  0 15 30  9]\n",
      " [ 2 10  0 10 20  6]\n",
      " [ 9 45  0 45 90 27]]\n",
      "Q1(h) Cartesian Product: [[ 2  1]\n",
      " [ 3  1]\n",
      " [ 4  1]\n",
      " [ 3  1]\n",
      " [ 2  1]\n",
      " [ 9  1]\n",
      " [ 2  5]\n",
      " [ 3  5]\n",
      " [ 4  5]\n",
      " [ 3  5]\n",
      " [ 2  5]\n",
      " [ 9  5]\n",
      " [ 2  0]\n",
      " [ 3  0]\n",
      " [ 4  0]\n",
      " [ 3  0]\n",
      " [ 2  0]\n",
      " [ 9  0]\n",
      " [ 2  5]\n",
      " [ 3  5]\n",
      " [ 4  5]\n",
      " [ 3  5]\n",
      " [ 2  5]\n",
      " [ 9  5]\n",
      " [ 2 10]\n",
      " [ 3 10]\n",
      " [ 4 10]\n",
      " [ 3 10]\n",
      " [ 2 10]\n",
      " [ 9 10]\n",
      " [ 2  3]\n",
      " [ 3  3]\n",
      " [ 4  3]\n",
      " [ 3  3]\n",
      " [ 2  3]\n",
      " [ 9  3]]\n"
     ]
    }
   ],
   "source": [
    "# Q1(h) \n",
    "x_mat = np.array([[2, 3, 4], [3, 2, 9]])\n",
    "y_mat = np.array([[1, 5, 0], [5, 10, 3]])\n",
    "inner_prod = np.inner(x_mat, y_mat)\n",
    "outer_prod = np.outer(x_mat, y_mat)\n",
    "\n",
    "a = x_mat.flatten()\n",
    "b = y_mat.flatten()\n",
    "A, B = np.meshgrid(a, b)\n",
    "cartesian_prod = np.vstack([A.ravel(), B.ravel()]).T\n",
    "\n",
    "print(\"Q1(h) Inner Product:\", inner_prod)\n",
    "print(\"Q1(h) Outer Product:\", outer_prod)\n",
    "print(\"Q1(h) Cartesian Product:\", cartesian_prod)"
   ]
  },
  {
   "cell_type": "code",
   "execution_count": 14,
   "id": "6bbddcea-04f8-4e89-954b-d68414d68855",
   "metadata": {},
   "outputs": [],
   "source": [
    "# Q2(a)\n",
    "array = np.array([[1, -2, 3], [-4, 5, -6]])"
   ]
  },
  {
   "cell_type": "code",
   "execution_count": 15,
   "id": "8fade5b9-3746-49aa-a58e-1d3d414eff6a",
   "metadata": {},
   "outputs": [
    {
     "name": "stdout",
     "output_type": "stream",
     "text": [
      "Q2(a.i) Absolute Value:\n",
      " [[1 2 3]\n",
      " [4 5 6]]\n"
     ]
    }
   ],
   "source": [
    "# Q2(a.i) Absolute value\n",
    "abs_array = np.abs(array)\n",
    "print(\"Q2(a.i) Absolute Value:\\n\", abs_array)"
   ]
  },
  {
   "cell_type": "code",
   "execution_count": 16,
   "id": "cb3743fd-1165-435f-8d0b-2832914ab1e1",
   "metadata": {},
   "outputs": [
    {
     "name": "stdout",
     "output_type": "stream",
     "text": [
      "Q2(a.ii) Percentiles (Flattened): [-3.5 -0.5  2.5]\n",
      "Q2(a.ii) Percentiles (Columns):\n",
      " [[-2.75 -0.25 -3.75]\n",
      " [-1.5   1.5  -1.5 ]\n",
      " [-0.25  3.25  0.75]]\n",
      "Q2(a.ii) Percentiles (Rows):\n",
      " [[-0.5 -5. ]\n",
      " [ 1.  -4. ]\n",
      " [ 2.   0.5]]\n"
     ]
    }
   ],
   "source": [
    "# Q2(a.ii) Percentiles\n",
    "percentile_flat = np.percentile(array.flatten(), [25, 50, 75])\n",
    "percentile_cols = np.percentile(array, [25, 50, 75], axis=0)\n",
    "percentile_rows = np.percentile(array, [25, 50, 75], axis=1)\n",
    "print(\"Q2(a.ii) Percentiles (Flattened):\", percentile_flat)\n",
    "print(\"Q2(a.ii) Percentiles (Columns):\\n\", percentile_cols)\n",
    "print(\"Q2(a.ii) Percentiles (Rows):\\n\", percentile_rows)"
   ]
  },
  {
   "cell_type": "code",
   "execution_count": 18,
   "id": "d1745aac-abe1-4030-8458-cedb3ea3fd75",
   "metadata": {},
   "outputs": [
    {
     "name": "stdout",
     "output_type": "stream",
     "text": [
      "Q2(a.iii) Mean (Flattened): -0.5\n",
      "Q2(a.iii) Median (Flattened): -0.5\n",
      "Q2(a.iii) Std Dev (Flattened): 3.8622100754188224\n",
      "Q2(a.iii) Mean (Columns): [-1.5  1.5 -1.5]\n",
      "Q2(a.iii) Median (Columns): [-1.5  1.5 -1.5]\n",
      "Q2(a.iii) Std Dev (Columns): [2.5 3.5 4.5]\n",
      "Q2(a.iii) Mean (Rows): [ 0.66666667 -1.66666667]\n",
      "Q2(a.iii) Median (Rows): [ 1. -4.]\n",
      "Q2(a.iii) Std Dev (Rows): [2.05480467 4.78423336]\n"
     ]
    }
   ],
   "source": [
    "# Q2(a.iii) Mean, Median, Std\n",
    "mean_flat = np.mean(array.flatten())\n",
    "median_flat = np.median(array.flatten())\n",
    "std_flat = np.std(array.flatten())\n",
    "print(\"Q2(a.iii) Mean (Flattened):\", mean_flat)\n",
    "print(\"Q2(a.iii) Median (Flattened):\", median_flat)\n",
    "print(\"Q2(a.iii) Std Dev (Flattened):\", std_flat)\n",
    "\n",
    "mean_cols = np.mean(array, axis=0)\n",
    "median_cols = np.median(array, axis=0)\n",
    "std_cols = np.std(array, axis=0)\n",
    "print(\"Q2(a.iii) Mean (Columns):\", mean_cols)\n",
    "print(\"Q2(a.iii) Median (Columns):\", median_cols)\n",
    "print(\"Q2(a.iii) Std Dev (Columns):\", std_cols)\n",
    "\n",
    "mean_rows = np.mean(array, axis=1)\n",
    "median_rows = np.median(array, axis=1)\n",
    "std_rows = np.std(array, axis=1)\n",
    "print(\"Q2(a.iii) Mean (Rows):\", mean_rows)\n",
    "print(\"Q2(a.iii) Median (Rows):\", median_rows)\n",
    "print(\"Q2(a.iii) Std Dev (Rows):\", std_rows)"
   ]
  },
  {
   "cell_type": "code",
   "execution_count": 19,
   "id": "cb9b5031-7842-4cd0-a65b-3845d405df79",
   "metadata": {},
   "outputs": [
    {
     "name": "stdout",
     "output_type": "stream",
     "text": [
      "Q2(b) Floor: [-2. -2. -1.  0.  1.  1.  3.]\n",
      "Q2(b) Ceil: [-1. -1. -0.  1.  2.  2.  3.]\n",
      "Q2(b) Trunc: [-1. -1. -0.  0.  1.  1.  3.]\n",
      "Q2(b) Round: [-2. -2. -0.  0.  2.  2.  3.]\n"
     ]
    }
   ],
   "source": [
    "# Q2(b)\n",
    "a = np.array([-1.8, -1.6, -0.5, 0.5, 1.6, 1.8, 3.0])\n",
    "floor_a = np.floor(a)\n",
    "ceil_a = np.ceil(a)\n",
    "trunc_a = np.trunc(a)\n",
    "round_a = np.round(a)\n",
    "\n",
    "print(\"Q2(b) Floor:\", floor_a)\n",
    "print(\"Q2(b) Ceil:\", ceil_a)\n",
    "print(\"Q2(b) Trunc:\", trunc_a)\n",
    "print(\"Q2(b) Round:\", round_a)"
   ]
  },
  {
   "cell_type": "code",
   "execution_count": 20,
   "id": "dbf24824-d93f-4833-9834-5b84d139c090",
   "metadata": {},
   "outputs": [],
   "source": [
    "# Q3. Given array\n",
    "arr = np.array([3.5, 2, 8.9, 5, 0, 12, 7.1, 4, 3, 1.5, 6.3, 11, 9.8, 10, 2.5])"
   ]
  },
  {
   "cell_type": "code",
   "execution_count": 21,
   "id": "d74aa22c-a57e-4fa7-9391-befbbd4968a8",
   "metadata": {},
   "outputs": [
    {
     "name": "stdout",
     "output_type": "stream",
     "text": [
      "Q3(a) Sorted array: [ 0.   1.5  2.   2.5  3.   3.5  4.   5.   6.3  7.1  8.9  9.8 10.  11.\n",
      " 12. ]\n"
     ]
    }
   ],
   "source": [
    "# Q3(a) \n",
    "sorted_arr = np.sort(arr)\n",
    "print(\"Q3(a) Sorted array:\", sorted_arr)"
   ]
  },
  {
   "cell_type": "code",
   "execution_count": 22,
   "id": "127a90c4-bdb8-4e90-a2f4-d706856f069a",
   "metadata": {},
   "outputs": [
    {
     "name": "stdout",
     "output_type": "stream",
     "text": [
      "Q3(b) Indices that would sort the array: [ 4  9  1 14  8  0  7  3 10  6  2 12 13 11  5]\n"
     ]
    }
   ],
   "source": [
    "# Q3(b) \n",
    "sorted_indices = np.argsort(arr)\n",
    "print(\"Q3(b) Indices that would sort the array:\", sorted_indices)"
   ]
  },
  {
   "cell_type": "code",
   "execution_count": 23,
   "id": "3aff120d-cff7-47e8-8f75-6650cd37a8b8",
   "metadata": {},
   "outputs": [
    {
     "name": "stdout",
     "output_type": "stream",
     "text": [
      "Q3(c) Four smallest elements: [0.  1.5 2.  2.5]\n"
     ]
    }
   ],
   "source": [
    "# Q3(c) \n",
    "four_smallest = np.sort(arr)[:4]\n",
    "print(\"Q3(c) Four smallest elements:\", four_smallest)"
   ]
  },
  {
   "cell_type": "code",
   "execution_count": 24,
   "id": "7be88c49-56a0-499e-95c2-4c4c8dddeb70",
   "metadata": {},
   "outputs": [
    {
     "name": "stdout",
     "output_type": "stream",
     "text": [
      "Q3(d) Five largest elements: [ 8.9  9.8 10.  11.  12. ]\n"
     ]
    }
   ],
   "source": [
    "# Q3(d) \n",
    "five_largest = np.sort(arr)[-5:]\n",
    "print(\"Q3(d) Five largest elements:\", five_largest)"
   ]
  },
  {
   "cell_type": "code",
   "execution_count": 25,
   "id": "30eb72e1-f81d-4f54-bc98-c513371437e4",
   "metadata": {},
   "outputs": [
    {
     "name": "stdout",
     "output_type": "stream",
     "text": [
      "Q3(e) Integer elements: [ 2.  5.  0. 12.  4.  3. 11. 10.]\n"
     ]
    }
   ],
   "source": [
    "# Q3(e) \n",
    "integer_elements = arr[arr == arr.astype(int)]\n",
    "print(\"Q3(e) Integer elements:\", integer_elements)"
   ]
  },
  {
   "cell_type": "code",
   "execution_count": 26,
   "id": "70b44541-25b0-4a28-8d80-f80d6d8c1c56",
   "metadata": {},
   "outputs": [
    {
     "name": "stdout",
     "output_type": "stream",
     "text": [
      "Q3(f) Float elements: [3.5 8.9 7.1 1.5 6.3 9.8 2.5]\n"
     ]
    }
   ],
   "source": [
    "# Q3(f) \n",
    "float_elements = arr[arr != arr.astype(int)]\n",
    "print(\"Q3(f) Float elements:\", float_elements)"
   ]
  },
  {
   "cell_type": "code",
   "execution_count": null,
   "id": "5b5d931f-8d94-441c-8ea5-015e6cf8094d",
   "metadata": {},
   "outputs": [],
   "source": [
    "# Q4\n",
    "from PIL import Image\n",
    "import numpy as np\n",
    "\n",
    "def img_to_array(path):\n",
    "    img=Image.open(path)\n",
    "    arr=np.array(img)\n",
    "    if len(arr.shape)==2:\n",
    "        np.savetxt(\"grayscale_image.txt\",arr,fmt='%d')\n",
    "    else:\n",
    "        np.savetxt(\"rgb_image.txt\",arr.reshape(-1,arr.shape[2]),fmt='%d')\n",
    "\n",
    "\n",
    "gray = np.loadtxt(\"grayscale_image.txt\", dtype=int)\n",
    "rgb = np.loadtxt(\"rgb_image.txt\", dtype=int)"
   ]
  }
 ],
 "metadata": {
  "kernelspec": {
   "display_name": "Python 3 (ipykernel)",
   "language": "python",
   "name": "python3"
  },
  "language_info": {
   "codemirror_mode": {
    "name": "ipython",
    "version": 3
   },
   "file_extension": ".py",
   "mimetype": "text/x-python",
   "name": "python",
   "nbconvert_exporter": "python",
   "pygments_lexer": "ipython3",
   "version": "3.13.5"
  }
 },
 "nbformat": 4,
 "nbformat_minor": 5
}
